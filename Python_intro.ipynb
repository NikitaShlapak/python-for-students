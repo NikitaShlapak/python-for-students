{
  "nbformat": 4,
  "nbformat_minor": 0,
  "metadata": {
    "colab": {
      "provenance": [],
      "authorship_tag": "ABX9TyOfgKTEpC3wslEzII1qsLG8",
      "include_colab_link": true
    },
    "kernelspec": {
      "name": "python3",
      "display_name": "Python 3"
    },
    "language_info": {
      "name": "python"
    }
  },
  "cells": [
    {
      "cell_type": "markdown",
      "metadata": {
        "id": "view-in-github",
        "colab_type": "text"
      },
      "source": [
        "<a href=\"https://colab.research.google.com/github/NikitaShlapak/python-for-students/blob/main/Python_intro.ipynb\" target=\"_parent\"><img src=\"https://colab.research.google.com/assets/colab-badge.svg\" alt=\"Open In Colab\"/></a>"
      ]
    },
    {
      "cell_type": "markdown",
      "source": [
        "# Язык программирования Python. Экскурс для инженера"
      ],
      "metadata": {
        "id": "Y_XcJj9RNSQy"
      }
    },
    {
      "cell_type": "markdown",
      "source": [
        "## 1. Базовый синтаксис\n",
        "Основные синтаксические единицы любого ЯП:\n",
        "1. Переменные и операторы\n",
        "2. Логические конструкции\n",
        "3. Циклы\n",
        "4. Функции\n",
        "5. Классы\n",
        "7. Модули"
      ],
      "metadata": {
        "id": "ternQ6udNiib"
      }
    },
    {
      "cell_type": "code",
      "execution_count": null,
      "metadata": {
        "colab": {
          "base_uri": "https://localhost:8080/",
          "height": 36
        },
        "id": "0JCngroiNRFl",
        "outputId": "f250099f-3691-477e-bbaf-11316725408d"
      },
      "outputs": [
        {
          "output_type": "execute_result",
          "data": {
            "text/plain": [
              "'Новая строка'"
            ],
            "application/vnd.google.colaboratory.intrinsic+json": {
              "type": "string"
            }
          },
          "metadata": {},
          "execution_count": 5
        }
      ],
      "source": [
        "x:str = 'переменная типа str' # Как и в любом ЯП в python присутствуют стандартные типы данных: строки...\n",
        "y = 'Новая строка'\n",
        "y"
      ]
    },
    {
      "cell_type": "code",
      "source": [
        "x:float = .5 #числа с плавающей точкой...\n",
        "x"
      ],
      "metadata": {
        "colab": {
          "base_uri": "https://localhost:8080/"
        },
        "id": "prKg6JI5O48W",
        "outputId": "3487e63c-1c7a-4cb2-b236-c50ee944d0d7"
      },
      "execution_count": null,
      "outputs": [
        {
          "output_type": "execute_result",
          "data": {
            "text/plain": [
              "0.5"
            ]
          },
          "metadata": {},
          "execution_count": 6
        }
      ]
    },
    {
      "cell_type": "code",
      "source": [
        "i:int = 4 # целые числа.\n",
        "i"
      ],
      "metadata": {
        "colab": {
          "base_uri": "https://localhost:8080/"
        },
        "id": "mVoqlpDHOeud",
        "outputId": "6f2eed61-35df-4af9-f2fd-f45035a5b850"
      },
      "execution_count": null,
      "outputs": [
        {
          "output_type": "execute_result",
          "data": {
            "text/plain": [
              "4"
            ]
          },
          "metadata": {},
          "execution_count": 7
        }
      ]
    },
    {
      "cell_type": "code",
      "source": [
        "x"
      ],
      "metadata": {
        "colab": {
          "base_uri": "https://localhost:8080/"
        },
        "outputId": "1b76170a-dfd0-4866-ec9b-d59b1fcc4825",
        "id": "_AxH0K7fB3y_"
      },
      "execution_count": null,
      "outputs": [
        {
          "output_type": "execute_result",
          "data": {
            "text/plain": [
              "0.5"
            ]
          },
          "metadata": {},
          "execution_count": 8
        }
      ]
    },
    {
      "cell_type": "code",
      "source": [
        "y*i # И ведут себя эти типы данных так же, как и в любом другом ЯП. Или нет?"
      ],
      "metadata": {
        "colab": {
          "base_uri": "https://localhost:8080/",
          "height": 36
        },
        "id": "OAsGbo64Okfj",
        "outputId": "d23c981b-149a-497e-e0a8-340f2323c3b5"
      },
      "execution_count": null,
      "outputs": [
        {
          "output_type": "execute_result",
          "data": {
            "text/plain": [
              "'Новая строкаНовая строкаНовая строкаНовая строка'"
            ],
            "application/vnd.google.colaboratory.intrinsic+json": {
              "type": "string"
            }
          },
          "metadata": {},
          "execution_count": 14
        }
      ]
    },
    {
      "cell_type": "code",
      "source": [
        "(not 8) and 0 or 2 or 5  # почему 2?"
      ],
      "metadata": {
        "colab": {
          "base_uri": "https://localhost:8080/"
        },
        "id": "lb_H9GivOoIU",
        "outputId": "caa90c26-58fd-41ef-9dbb-7f98baa7c054"
      },
      "execution_count": null,
      "outputs": [
        {
          "output_type": "execute_result",
          "data": {
            "text/plain": [
              "False"
            ]
          },
          "metadata": {},
          "execution_count": 18
        }
      ]
    },
    {
      "cell_type": "code",
      "source": [
        "bool(-1)"
      ],
      "metadata": {
        "colab": {
          "base_uri": "https://localhost:8080/"
        },
        "id": "q3foPebSNhfn",
        "outputId": "f07fe3fa-4740-4f24-8ad8-8c318113eb2b"
      },
      "execution_count": null,
      "outputs": [
        {
          "output_type": "execute_result",
          "data": {
            "text/plain": [
              "True"
            ]
          },
          "metadata": {},
          "execution_count": 19
        }
      ]
    },
    {
      "cell_type": "code",
      "source": [
        "(not 8)"
      ],
      "metadata": {
        "colab": {
          "base_uri": "https://localhost:8080/"
        },
        "id": "o4T6TZGJMzZs",
        "outputId": "74a28ee9-3390-4593-da33-6666f1504d99"
      },
      "execution_count": null,
      "outputs": [
        {
          "output_type": "execute_result",
          "data": {
            "text/plain": [
              "False"
            ]
          },
          "metadata": {},
          "execution_count": 81
        }
      ]
    },
    {
      "cell_type": "code",
      "source": [
        "x = 2\n",
        "if x==2:\n",
        "  print('123')\n",
        "elif x==3:\n",
        "  print('4')\n",
        "elif x==4:\n",
        "  print('41')\n",
        "elif x==5:\n",
        "  print('42')\n",
        "else:\n",
        "  print('312')"
      ],
      "metadata": {
        "colab": {
          "base_uri": "https://localhost:8080/"
        },
        "id": "SQ2fIo4EEWhQ",
        "outputId": "9fc3c617-e400-4d21-aeb5-9284055fb9e5"
      },
      "execution_count": null,
      "outputs": [
        {
          "output_type": "stream",
          "name": "stdout",
          "text": [
            "123\n",
            "end\n"
          ]
        }
      ]
    },
    {
      "cell_type": "code",
      "source": [
        "my_list = [x for x in range(10) if (x % 2)==0] #Ну ты что,глупый? Это же массив!\n",
        "type(my_list)"
      ],
      "metadata": {
        "colab": {
          "base_uri": "https://localhost:8080/"
        },
        "id": "xNTeH1h2UkND",
        "outputId": "7dc312be-e199-4256-cc52-976f826657c2"
      },
      "execution_count": null,
      "outputs": [
        {
          "output_type": "execute_result",
          "data": {
            "text/plain": [
              "list"
            ]
          },
          "metadata": {},
          "execution_count": 29
        }
      ]
    },
    {
      "cell_type": "code",
      "source": [
        "my_list =[]\n",
        "i = 0\n",
        "while i<10:\n",
        "  if i%2==0:\n",
        "    my_list.append(i)\n",
        "  i+=1\n",
        "my_list"
      ],
      "metadata": {
        "colab": {
          "base_uri": "https://localhost:8080/"
        },
        "id": "PIYkZq8bDQtd",
        "outputId": "7f47b380-819a-4fa4-bcd3-e65aea390a07"
      },
      "execution_count": null,
      "outputs": [
        {
          "output_type": "execute_result",
          "data": {
            "text/plain": [
              "[0, 2, 4, 6, 8]"
            ]
          },
          "metadata": {},
          "execution_count": 32
        }
      ]
    },
    {
      "cell_type": "code",
      "source": [
        "for element in my_list: #самый обычный цикл\n",
        "  print(element*2)"
      ],
      "metadata": {
        "colab": {
          "base_uri": "https://localhost:8080/"
        },
        "id": "F3KBYnfIzRxS",
        "outputId": "8de8a0ba-593d-40f6-cf50-5039925b62e2"
      },
      "execution_count": null,
      "outputs": [
        {
          "output_type": "stream",
          "name": "stdout",
          "text": [
            "0\n",
            "4\n",
            "8\n",
            "12\n",
            "16\n"
          ]
        }
      ]
    },
    {
      "cell_type": "code",
      "source": [
        "i=0\n",
        "while i<10:\n",
        "  print(i)\n",
        "  i += 1"
      ],
      "metadata": {
        "colab": {
          "base_uri": "https://localhost:8080/"
        },
        "id": "F0unHMxjICMU",
        "outputId": "86bfb129-6a09-4f01-867e-16197d4e7de4"
      },
      "execution_count": null,
      "outputs": [
        {
          "output_type": "stream",
          "name": "stdout",
          "text": [
            "0\n",
            "1\n",
            "2\n",
            "3\n",
            "4\n",
            "5\n",
            "6\n",
            "7\n",
            "8\n",
            "9\n"
          ]
        }
      ]
    },
    {
      "cell_type": "code",
      "source": [
        "for i in range(1,20):\n",
        "  if not i % 11:\n",
        "    print(i)\n",
        "    break\n",
        "else: # Ты таб забыл.\n",
        "  print('Oops')"
      ],
      "metadata": {
        "id": "BPNmueFczYxf",
        "colab": {
          "base_uri": "https://localhost:8080/"
        },
        "outputId": "af121fd2-e68b-41c0-d8fe-37e36bfaba77"
      },
      "execution_count": null,
      "outputs": [
        {
          "output_type": "stream",
          "name": "stdout",
          "text": [
            "11\n"
          ]
        }
      ]
    },
    {
      "cell_type": "code",
      "source": [
        "def shuffle(a=1,b=2): # Функция. Тут-то без приколов?\n",
        "  return b,a\n",
        "\n",
        "shuffle(5,10)"
      ],
      "metadata": {
        "colab": {
          "base_uri": "https://localhost:8080/"
        },
        "id": "277oimab0Mw7",
        "outputId": "58928b8a-7605-44ee-dd5e-d60e2a915f1a"
      },
      "execution_count": null,
      "outputs": [
        {
          "output_type": "execute_result",
          "data": {
            "text/plain": [
              "(10, 5)"
            ]
          },
          "metadata": {},
          "execution_count": 37
        }
      ]
    },
    {
      "cell_type": "code",
      "source": [
        "a = shuffle()#вроде, без\n",
        "a"
      ],
      "metadata": {
        "colab": {
          "base_uri": "https://localhost:8080/"
        },
        "id": "fM4SVsQR1BaM",
        "outputId": "a01e6252-7787-4a90-be9e-1035662dd2db"
      },
      "execution_count": null,
      "outputs": [
        {
          "output_type": "execute_result",
          "data": {
            "text/plain": [
              "(2, 1)"
            ]
          },
          "metadata": {},
          "execution_count": 39
        }
      ]
    },
    {
      "cell_type": "code",
      "source": [
        "class Pet():\n",
        "  num_legs = 4\n",
        "  function = 'Make happy'\n",
        "Rex = Pet()\n",
        "Rex.function"
      ],
      "metadata": {
        "id": "oBAu6st32Klv",
        "colab": {
          "base_uri": "https://localhost:8080/",
          "height": 36
        },
        "outputId": "83d8e214-2e2f-41f1-f666-a6f8e4550e51"
      },
      "execution_count": null,
      "outputs": [
        {
          "output_type": "execute_result",
          "data": {
            "text/plain": [
              "'Make happy'"
            ],
            "application/vnd.google.colaboratory.intrinsic+json": {
              "type": "string"
            }
          },
          "metadata": {},
          "execution_count": 40
        }
      ]
    },
    {
      "cell_type": "code",
      "source": [
        "class Dog(Pet):\n",
        "\n",
        "  def say(self):\n",
        "    print('Гав-гав')\n",
        "\n",
        "  def __init__(self, name):\n",
        "    self.name = name\n",
        "\n",
        "Rex = Dog('Рекс')\n",
        "Rex.say()\n",
        "Rex.function"
      ],
      "metadata": {
        "colab": {
          "base_uri": "https://localhost:8080/",
          "height": 55
        },
        "id": "hwcvKOLp9ivn",
        "outputId": "bcdd9da9-c06f-474c-bdfe-9c661f54e2b7"
      },
      "execution_count": null,
      "outputs": [
        {
          "output_type": "stream",
          "name": "stdout",
          "text": [
            "Гав-гав\n"
          ]
        },
        {
          "output_type": "execute_result",
          "data": {
            "text/plain": [
              "'Make happy'"
            ],
            "application/vnd.google.colaboratory.intrinsic+json": {
              "type": "string"
            }
          },
          "metadata": {},
          "execution_count": 41
        }
      ]
    },
    {
      "cell_type": "code",
      "source": [
        "type(Rex)"
      ],
      "metadata": {
        "colab": {
          "base_uri": "https://localhost:8080/"
        },
        "id": "9aZM9M6sG1io",
        "outputId": "a6aa34fa-71b2-4e03-d667-b41eae12caaa"
      },
      "execution_count": null,
      "outputs": [
        {
          "output_type": "execute_result",
          "data": {
            "text/plain": [
              "__main__.Dog"
            ]
          },
          "metadata": {},
          "execution_count": 43
        }
      ]
    },
    {
      "cell_type": "code",
      "source": [
        "import numpy as np\n",
        "import pandas as pd\n",
        "import matplotlib.pyplot as plt"
      ],
      "metadata": {
        "id": "QUqV0S6dKCm6"
      },
      "execution_count": null,
      "outputs": []
    },
    {
      "cell_type": "code",
      "source": [
        "plt.plot(range(10))"
      ],
      "metadata": {
        "colab": {
          "base_uri": "https://localhost:8080/",
          "height": 447
        },
        "id": "d9qF7saxKKdK",
        "outputId": "a72bd638-440c-4cb7-b4b5-968be618435c"
      },
      "execution_count": null,
      "outputs": [
        {
          "output_type": "execute_result",
          "data": {
            "text/plain": [
              "[<matplotlib.lines.Line2D at 0x7950583f5900>]"
            ]
          },
          "metadata": {},
          "execution_count": 78
        },
        {
          "output_type": "display_data",
          "data": {
            "text/plain": [
              "<Figure size 640x480 with 1 Axes>"
            ],
            "image/png": "[encoded data removed]"
          },
          "metadata": {}
        }
      ]
    },
    {
      "cell_type": "code",
      "source": [
        "print(max(0,1,4))\n",
        "type(max)"
      ],
      "metadata": {
        "colab": {
          "base_uri": "https://localhost:8080/"
        },
        "id": "-uGiQQPv-rvi",
        "outputId": "7362d5d4-9f99-4c11-e789-ec4871a46cad"
      },
      "execution_count": null,
      "outputs": [
        {
          "output_type": "stream",
          "name": "stdout",
          "text": [
            "4\n"
          ]
        },
        {
          "output_type": "execute_result",
          "data": {
            "text/plain": [
              "builtin_function_or_method"
            ]
          },
          "metadata": {},
          "execution_count": 42
        }
      ]
    },
    {
      "cell_type": "code",
      "source": [
        "print(max.__str__())"
      ],
      "metadata": {
        "colab": {
          "base_uri": "https://localhost:8080/"
        },
        "id": "Uirs1QqY-vFK",
        "outputId": "fda6c9c8-464f-49bb-cf44-280d4957be32"
      },
      "execution_count": null,
      "outputs": [
        {
          "output_type": "stream",
          "name": "stdout",
          "text": [
            "<built-in function max>\n"
          ]
        }
      ]
    },
    {
      "cell_type": "code",
      "source": [
        "def str_print():\n",
        "  print('123')"
      ],
      "metadata": {
        "id": "XaaGyK86-7lS"
      },
      "execution_count": null,
      "outputs": []
    },
    {
      "cell_type": "code",
      "source": [
        "max.__str__ = str_print"
      ],
      "metadata": {
        "colab": {
          "base_uri": "https://localhost:8080/",
          "height": 179
        },
        "id": "ACHbna3ARt_A",
        "outputId": "042aee3b-5b6e-4732-dfc8-9e0611a97d95"
      },
      "execution_count": null,
      "outputs": [
        {
          "output_type": "error",
          "ename": "AttributeError",
          "evalue": "ignored",
          "traceback": [
            "\u001b[0;31m---------------------------------------------------------------------------\u001b[0m",
            "\u001b[0;31mAttributeError\u001b[0m                            Traceback (most recent call last)",
            "\u001b[0;32m<ipython-input-29-2f14a73c43c0>\u001b[0m in \u001b[0;36m<cell line: 1>\u001b[0;34m()\u001b[0m\n\u001b[0;32m----> 1\u001b[0;31m \u001b[0mmax\u001b[0m\u001b[0;34m.\u001b[0m\u001b[0m__str__\u001b[0m \u001b[0;34m=\u001b[0m \u001b[0mstr_print\u001b[0m\u001b[0;34m\u001b[0m\u001b[0;34m\u001b[0m\u001b[0m\n\u001b[0m",
            "\u001b[0;31mAttributeError\u001b[0m: 'builtin_function_or_method' object attribute '__str__' is read-only"
          ]
        }
      ]
    },
    {
      "cell_type": "code",
      "source": [
        "def cover(fun, arg):\n",
        "  print('function started')\n",
        "  fun(arg)\n",
        "  print('function finished')\n",
        "  return fun(arg)"
      ],
      "metadata": {
        "id": "dVb0Jd6SSEgF"
      },
      "execution_count": null,
      "outputs": []
    },
    {
      "cell_type": "code",
      "source": [
        "cover(print, 'abc') #print('abc')"
      ],
      "metadata": {
        "colab": {
          "base_uri": "https://localhost:8080/"
        },
        "id": "ashYPEJsSpJY",
        "outputId": "a6a013bd-07db-4c6d-a940-0f3036547de5"
      },
      "execution_count": null,
      "outputs": [
        {
          "output_type": "stream",
          "name": "stdout",
          "text": [
            "function started\n",
            "abc\n",
            "function finished\n",
            "abc\n"
          ]
        }
      ]
    },
    {
      "cell_type": "code",
      "source": [
        "print(cover(max,[1,2,3]))"
      ],
      "metadata": {
        "colab": {
          "base_uri": "https://localhost:8080/"
        },
        "id": "0MITm4inSrtX",
        "outputId": "dcf1ca18-a6dd-4523-cd86-4d12560e5f69"
      },
      "execution_count": null,
      "outputs": [
        {
          "output_type": "stream",
          "name": "stdout",
          "text": [
            "function started\n",
            "function finished\n",
            "None\n"
          ]
        }
      ]
    },
    {
      "cell_type": "markdown",
      "source": [
        "##2. Объектоно ориентированное программирование\n",
        "\n",
        "Основные концепции:\n",
        "1. Инкапсуляция - классы самодостаточны\n",
        "2. Наследование - одни классы могут базироваться на других\n",
        "3. Полиморфизм - одни и те же методы могут делать разные действия\n"
      ],
      "metadata": {
        "id": "XOTqEGoh7bmi"
      }
    },
    {
      "cell_type": "code",
      "source": [
        "class Pet():\n",
        "  name=''\n",
        "  num_legs = 4\n",
        "  function = 'Make happy'\n",
        "\n",
        "  def __init__(self, name):\n",
        "    self.name = name\n",
        "\n",
        "  def move(self):\n",
        "    return f\"{self.name} двигается\"\n",
        "\n",
        "Rex = Pet(\"Рекс\")\n",
        "print(Rex.function, Rex.move(), sep='\\n')"
      ],
      "metadata": {
        "id": "D6auNSx9S895",
        "colab": {
          "base_uri": "https://localhost:8080/"
        },
        "outputId": "33d8c533-965a-4322-be9a-1052822c3ee5"
      },
      "execution_count": null,
      "outputs": [
        {
          "output_type": "stream",
          "name": "stdout",
          "text": [
            "Make happy\n",
            "Рекс двигается\n"
          ]
        }
      ]
    },
    {
      "cell_type": "code",
      "source": [
        "class Dog(Pet):\n",
        "\n",
        "  def voice(self):\n",
        "    print('Гав-гав')"
      ],
      "metadata": {
        "id": "VNy1jyJ1-_T0"
      },
      "execution_count": null,
      "outputs": []
    },
    {
      "cell_type": "code",
      "source": [
        "Rex = Dog('Рекс')\n",
        "print(isinstance(Rex, Dog), isinstance(Rex, Pet))"
      ],
      "metadata": {
        "colab": {
          "base_uri": "https://localhost:8080/"
        },
        "id": "z06a5LdjACFa",
        "outputId": "490f70e3-9d15-4c39-8edd-461849553740"
      },
      "execution_count": null,
      "outputs": [
        {
          "output_type": "stream",
          "name": "stdout",
          "text": [
            "True True\n"
          ]
        }
      ]
    },
    {
      "cell_type": "code",
      "source": [
        "print(Rex.name, Rex.num_legs)\n",
        "Rex.voice()\n",
        "print(Rex.move())"
      ],
      "metadata": {
        "colab": {
          "base_uri": "https://localhost:8080/"
        },
        "id": "UBGouYcBBhsZ",
        "outputId": "eac6a381-5de2-470c-a789-fc4c9c8a948e"
      },
      "execution_count": null,
      "outputs": [
        {
          "output_type": "stream",
          "name": "stdout",
          "text": [
            "Рекс 4\n",
            "Гав-гав\n",
            "Рекс двигается\n"
          ]
        }
      ]
    },
    {
      "cell_type": "code",
      "source": [
        "var = 'my string'\n",
        "var"
      ],
      "metadata": {
        "colab": {
          "base_uri": "https://localhost:8080/",
          "height": 35
        },
        "id": "Dur0U2uaLU0U",
        "outputId": "143da0d7-ba43-4ff4-fe68-7f7b0efa4bf5"
      },
      "execution_count": null,
      "outputs": [
        {
          "output_type": "execute_result",
          "data": {
            "text/plain": [
              "'my string'"
            ],
            "application/vnd.google.colaboratory.intrinsic+json": {
              "type": "string"
            }
          },
          "metadata": {},
          "execution_count": 34
        }
      ]
    },
    {
      "cell_type": "code",
      "source": [
        "Ball = Dog('Шарик')\n",
        "Rex = Dog('Рекс')\n",
        "Ball.num_legs=1"
      ],
      "metadata": {
        "id": "FfwZB6vTLmtD"
      },
      "execution_count": null,
      "outputs": []
    },
    {
      "cell_type": "code",
      "source": [
        "print(Rex, Ball, sep='\\n')"
      ],
      "metadata": {
        "colab": {
          "base_uri": "https://localhost:8080/"
        },
        "id": "tQpaVgJzBRHS",
        "outputId": "c564ad5b-5d9a-47b7-9b79-f6e7740db78a"
      },
      "execution_count": null,
      "outputs": [
        {
          "output_type": "stream",
          "name": "stdout",
          "text": [
            "Милый пёсик по имени Рекс с 4 ногами\n",
            "Милый пёсик по имени Шарик с одной ногой\n"
          ]
        }
      ]
    },
    {
      "cell_type": "code",
      "source": [
        "class Dog(Pet):\n",
        "\n",
        "  def __str__(self):\n",
        "    text = f\"Милый пёсик по имени {self.name} \"\n",
        "    if self.num_legs>1:\n",
        "      text = text + f\"с {self.num_legs} ногами\"\n",
        "    else:\n",
        "      text = text + f\"с одной ногой\"\n",
        "    return text\n",
        "\n",
        "  def voice(self):\n",
        "    print('Гав-гав')"
      ],
      "metadata": {
        "id": "lebEDTi-A5oW"
      },
      "execution_count": null,
      "outputs": []
    },
    {
      "cell_type": "code",
      "source": [
        "class Cat(Pet):\n",
        "  def voice(self):\n",
        "    print('Мяу')\n",
        "\n",
        "\n",
        "class Cockroach(Pet):\n",
        "  num_legs = 6\n",
        "\n",
        "  def voice(self):\n",
        "    print('Пшшшшш')"
      ],
      "metadata": {
        "id": "sl80I6qxABFb"
      },
      "execution_count": null,
      "outputs": []
    },
    {
      "cell_type": "code",
      "source": [
        "Rex = Dog('Рекс')\n",
        "Barsik = Cat('Барсик')\n",
        "Fedya = Cockroach('Федя')"
      ],
      "metadata": {
        "id": "PFenAqfoNh9W"
      },
      "execution_count": null,
      "outputs": []
    },
    {
      "cell_type": "code",
      "source": [
        "pets = [Rex, Barsik, Fedya]"
      ],
      "metadata": {
        "id": "jRUh2h-BNz2z"
      },
      "execution_count": null,
      "outputs": []
    },
    {
      "cell_type": "code",
      "source": [
        "for pet in pets:\n",
        "  pet.voice()"
      ],
      "metadata": {
        "colab": {
          "base_uri": "https://localhost:8080/"
        },
        "id": "jyYsc1v_N6ty",
        "outputId": "c621fed1-d84f-4b8c-f080-c60a10554402"
      },
      "execution_count": null,
      "outputs": [
        {
          "output_type": "stream",
          "name": "stdout",
          "text": [
            "Гав-гав\n",
            "Мяу\n",
            "Пшшшшш\n"
          ]
        }
      ]
    },
    {
      "cell_type": "markdown",
      "source": [
        "###Принципы SOLID\n",
        "\n",
        "(https://habr.com/ru/articles/688530/)\n",
        "\n",
        "S - Single Responsibility Principle - принцип единственной ответственности. Каждый класс должен иметь только одну зону ответственности.\n",
        "\n",
        "O - Open closed Principle - принцип открытости-закрытости. Классы должны быть открыты для расширения, но закрыты для изменения.\n",
        "\n",
        "L - Liskov substitution Principle - принцип подстановки Барбары Лисков. Должна быть возможность вместо базового (родительского) типа (класса) подставить любой его подтип (класс-наследник), при этом работа программы не должна измениться.\n",
        "\n",
        "I -  Interface Segregation Principle - принцип разделения интерфейсов. Данный принцип обозначает, что не нужно заставлять клиента (класс) реализовывать интерфейс, который не имеет к нему отношения.\n",
        "\n",
        "D - Dependency Inversion Principle - принцип инверсии зависимостей. Модули верхнего уровня не должны зависеть от модулей нижнего уровня. И те, и другие должны зависеть от абстракции. Абстракции не должны зависеть от деталей. Детали должны зависеть от абстракций."
      ],
      "metadata": {
        "id": "QhKHu2g38hkl"
      }
    }
  ]
}